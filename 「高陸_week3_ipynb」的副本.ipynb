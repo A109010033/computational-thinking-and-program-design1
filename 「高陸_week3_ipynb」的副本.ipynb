{
  "nbformat": 4,
  "nbformat_minor": 0,
  "metadata": {
    "colab": {
      "name": "「高陸-week3.ipynb」的副本",
      "provenance": [],
      "toc_visible": true,
      "authorship_tag": "ABX9TyM3MoaPJAkTDu60ZaAOA2E/",
      "include_colab_link": true
    },
    "kernelspec": {
      "name": "python3",
      "display_name": "Python 3"
    }
  },
  "cells": [
    {
      "cell_type": "markdown",
      "metadata": {
        "id": "view-in-github",
        "colab_type": "text"
      },
      "source": [
        "<a href=\"https://colab.research.google.com/github/A109010033/computational-thinking-and-program-design1/blob/main/%E3%80%8C%E9%AB%98%E9%99%B8_week3_ipynb%E3%80%8D%E7%9A%84%E5%89%AF%E6%9C%AC.ipynb\" target=\"_parent\"><img src=\"https://colab.research.google.com/assets/colab-badge.svg\" alt=\"Open In Colab\"/></a>"
      ]
    },
    {
      "cell_type": "code",
      "metadata": {
        "id": "8RZTkw-0Xdz2"
      },
      "source": [
        ""
      ],
      "execution_count": null,
      "outputs": []
    },
    {
      "cell_type": "markdown",
      "metadata": {
        "id": "-A1kaKWAXqVi"
      },
      "source": [
        "#隨堂練習"
      ]
    },
    {
      "cell_type": "markdown",
      "metadata": {
        "id": "KXLFv4ptaUiy"
      },
      "source": [
        "有問題要解決,要先認識問題瞭解問題,然後把解決問題的方法找出來。展現運算思維與程式設計能力,將解決問題的演算法程式寫出來。讓電腦依照指令替我們工作,完成「用電腦解決問題」的任務。程式語言,說的不是電腦話,但一種意思一種解讀,透過編譯器,可以轉成0與1,讓電腦依\n",
        "照指令行動。\n",
        "程式語言,說的也不是人話,但一種意思一種解讀,人可以學,學會了就可以讓人和電腦溝\n",
        "通。"
      ]
    },
    {
      "cell_type": "markdown",
      "metadata": {
        "id": "XZpdQrKpX0AU"
      },
      "source": [
        "#課後練習"
      ]
    },
    {
      "cell_type": "markdown",
      "metadata": {
        "id": "6v_F2kwGX3oc"
      },
      "source": [
        "提出你對新聞系（OO系）學生為什麼要學「運算思維與程式設計」的見解。（告訴我新聞連結，以及你的觀點即可。）\n"
      ]
    },
    {
      "cell_type": "markdown",
      "metadata": {
        "id": "luVO3Uz4aBKJ"
      },
      "source": [
        "https://jchenmmm.medium.com/%E5%AD%B8%E6%9C%83-%E9%81%8B%E7%AE%97%E6%80%9D%E7%B6%AD-%E5%A6%82%E4%BD%95%E8%AE%93%E4%BD%A0%E7%9A%84%E7%94%9F%E6%B4%BB%E9%81%8E%E5%BE%97%E6%9B%B4%E7%BE%8E%E5%A5%BD-94e15a0d7bad\n",
        "【學會『運算思維』如何讓你的生活過得更美好？ 】"
      ]
    },
    {
      "cell_type": "markdown",
      "metadata": {
        "id": "N_YDlxn3Z5H7"
      },
      "source": [
        "課所我認為這堂說的運算思維非常重要,無論是什麼系的學生都是受用的,尤其對新聞系而言能系統性解決問題的思考模式絕對是必須的,新聞系的職涯未來的時間十分緊湊,需要能最快速的反應問題並且解決,同時這堂課也能訓練我們的邏輯能力,除了辦事更有效率外口語的表達上也能更有節奏等等"
      ]
    },
    {
      "cell_type": "markdown",
      "metadata": {
        "id": "Kt4056iUYBrZ"
      },
      "source": [
        ""
      ]
    }
  ]
}