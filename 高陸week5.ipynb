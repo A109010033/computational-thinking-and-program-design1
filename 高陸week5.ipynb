{
  "nbformat": 4,
  "nbformat_minor": 0,
  "metadata": {
    "colab": {
      "name": "高陸week5",
      "provenance": [],
      "authorship_tag": "ABX9TyOpplDrkXswswm2NIsoeqrA",
      "include_colab_link": true
    },
    "kernelspec": {
      "name": "python3",
      "display_name": "Python 3"
    },
    "language_info": {
      "name": "python"
    }
  },
  "cells": [
    {
      "cell_type": "markdown",
      "metadata": {
        "id": "view-in-github",
        "colab_type": "text"
      },
      "source": [
        "<a href=\"https://colab.research.google.com/github/A109010033/computational-thinking-and-program-design1/blob/main/%E9%AB%98%E9%99%B8week5.ipynb\" target=\"_parent\"><img src=\"https://colab.research.google.com/assets/colab-badge.svg\" alt=\"Open In Colab\"/></a>"
      ]
    },
    {
      "cell_type": "code",
      "metadata": {
        "colab": {
          "base_uri": "https://localhost:8080/"
        },
        "id": "fI273pxdiJuM",
        "outputId": "1999494c-c292-4f66-c443-73f980e4dc98"
      },
      "source": [
        "name = \"maxcocoikinuko\"\n",
        "adjective = \"shit\"\n",
        "favorite_snack = \"shit\"\n",
        "number = \"shit\"\n",
        "type_of_tree = \"shot\"\n",
        "\n",
        "\n",
        "silly_story = f\"\"\"\n",
        "Hi, my name is {name}.\n",
        "I really like {adjective}{favorite_snack}!\n",
        "I like it so much, I try to eat it at least {number} times every\n",
        "day.\n",
        "It tastes even better when you eat it under a {type_of_tree}!\n",
        "\"\"\"\n",
        "print(silly_story)"
      ],
      "execution_count": null,
      "outputs": [
        {
          "output_type": "stream",
          "text": [
            "\n",
            "Hi, my name is maxcocoikinuko.\n",
            "I really like shitshit!\n",
            "I like it so much, I try to eat it at least shit times every\n",
            "day.\n",
            "It tastes even better when you eat it under a shot!\n",
            "\n"
          ],
          "name": "stdout"
        }
      ]
    },
    {
      "cell_type": "code",
      "metadata": {
        "id": "x_7kVjCLiLce"
      },
      "source": [
        ""
      ],
      "execution_count": null,
      "outputs": []
    }
  ]
}